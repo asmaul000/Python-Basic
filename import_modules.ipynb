{
  "nbformat": 4,
  "nbformat_minor": 0,
  "metadata": {
    "colab": {
      "provenance": []
    },
    "kernelspec": {
      "name": "python3",
      "display_name": "Python 3"
    },
    "language_info": {
      "name": "python"
    }
  },
  "cells": [
    {
      "cell_type": "code",
      "execution_count": 1,
      "metadata": {
        "colab": {
          "base_uri": "https://localhost:8080/"
        },
        "id": "9AyaHxGTOfcd",
        "outputId": "7c0b0972-73a4-44ca-81fa-8b2f7a8a94e3"
      },
      "outputs": [
        {
          "output_type": "stream",
          "name": "stdout",
          "text": [
            "4.0\n"
          ]
        }
      ],
      "source": [
        "import math #Using many functions\n",
        "print(math.sqrt(16))"
      ]
    },
    {
      "cell_type": "code",
      "source": [
        "from math import sqrt #Using 1–2 functions only\n",
        "print(sqrt(25))"
      ],
      "metadata": {
        "colab": {
          "base_uri": "https://localhost:8080/"
        },
        "id": "4gSwQOFUOpjB",
        "outputId": "f779e91f-0931-4717-b91e-27919cbaf25c"
      },
      "execution_count": 2,
      "outputs": [
        {
          "output_type": "stream",
          "name": "stdout",
          "text": [
            "5.0\n"
          ]
        }
      ]
    },
    {
      "cell_type": "code",
      "source": [
        "from math import sqrt as S #Shorter function names\n",
        "print(S(36))"
      ],
      "metadata": {
        "colab": {
          "base_uri": "https://localhost:8080/"
        },
        "id": "0rG83r-oOtzR",
        "outputId": "3fb115a9-2f12-4766-cb17-0da64ad5528b"
      },
      "execution_count": 3,
      "outputs": [
        {
          "output_type": "stream",
          "name": "stdout",
          "text": [
            "6.0\n"
          ]
        }
      ]
    },
    {
      "cell_type": "code",
      "source": [
        "import math as m #Shorter module names\n",
        "print(m.sqrt(49))"
      ],
      "metadata": {
        "colab": {
          "base_uri": "https://localhost:8080/"
        },
        "id": "qdZoHY5fOy1X",
        "outputId": "0b05905f-7c27-4668-9809-c15c8a4bc5d8"
      },
      "execution_count": 4,
      "outputs": [
        {
          "output_type": "stream",
          "name": "stdout",
          "text": [
            "7.0\n"
          ]
        }
      ]
    },
    {
      "cell_type": "code",
      "source": [
        "from math import * #\tQuick tests or interactive use\n",
        "print(sqrt(64))"
      ],
      "metadata": {
        "colab": {
          "base_uri": "https://localhost:8080/"
        },
        "id": "-7eXU7-4O2iL",
        "outputId": "142f20da-51af-47e9-8303-56f948ee3111"
      },
      "execution_count": 5,
      "outputs": [
        {
          "output_type": "stream",
          "name": "stdout",
          "text": [
            "8.0\n"
          ]
        }
      ]
    },
    {
      "cell_type": "code",
      "source": [
        "import math #To view all functions in a module:\n",
        "help(math)"
      ],
      "metadata": {
        "id": "D-bGjq6eO5Iw"
      },
      "execution_count": null,
      "outputs": []
    },
    {
      "cell_type": "code",
      "source": [
        "help(math.sqrt)  #To view help for a specific function:"
      ],
      "metadata": {
        "id": "Dl0sgU3gPA0w"
      },
      "execution_count": null,
      "outputs": []
    }
  ]
}