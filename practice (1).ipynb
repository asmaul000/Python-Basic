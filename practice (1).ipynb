{
  "metadata": {
    "kernelspec": {
      "name": "python",
      "display_name": "Python (Pyodide)",
      "language": "python"
    },
    "language_info": {
      "codemirror_mode": {
        "name": "python",
        "version": 3
      },
      "file_extension": ".py",
      "mimetype": "text/x-python",
      "name": "python",
      "nbconvert_exporter": "python",
      "pygments_lexer": "ipython3",
      "version": "3.8"
    },
    "colab": {
      "provenance": []
    }
  },
  "nbformat_minor": 5,
  "nbformat": 4,
  "cells": [
    {
      "id": "944c82ee-7c11-40eb-b8cc-94406c05ee94",
      "cell_type": "code",
      "source": [
        "if 5==15/3:\n",
        "    print(\"hooray\")"
      ],
      "metadata": {
        "trusted": true,
        "id": "944c82ee-7c11-40eb-b8cc-94406c05ee94",
        "outputId": "30d9710e-07b4-4ad0-f86a-213f209fd3ea",
        "colab": {
          "base_uri": "https://localhost:8080/"
        }
      },
      "outputs": [
        {
          "output_type": "stream",
          "name": "stdout",
          "text": [
            "hooray\n"
          ]
        }
      ],
      "execution_count": 18
    },
    {
      "id": "b493d06f-927b-455f-b6de-c7d05b489202",
      "cell_type": "code",
      "source": [
        "a = 2\n",
        "a"
      ],
      "metadata": {
        "trusted": true,
        "id": "b493d06f-927b-455f-b6de-c7d05b489202"
      },
      "outputs": [],
      "execution_count": null
    },
    {
      "id": "90b09b87-ce2d-4baa-86fb-4ccc6030ed96",
      "cell_type": "code",
      "source": [
        "#assign the value\n",
        "x=10\n",
        "y=13\n",
        "#first if statement and operator\n",
        "if x>10 and y>13:\n",
        "    print(\"Both conditions are correct\")\n",
        "# second if statement using or operator\n",
        "if x<=3 or x<=13:\n",
        "    print(\"At least one of the conditions is false\")\n",
        "\n"
      ],
      "metadata": {
        "trusted": true,
        "id": "90b09b87-ce2d-4baa-86fb-4ccc6030ed96",
        "outputId": "d72267ca-dcd1-4dff-e911-c7222c6a29ba"
      },
      "outputs": [
        {
          "name": "stdout",
          "output_type": "stream",
          "text": "At least one of the conditions is false\n"
        }
      ],
      "execution_count": null
    },
    {
      "id": "ba71d8c8-2a92-4275-95b6-ebd2565cc0ab",
      "cell_type": "code",
      "source": [
        "#assign the value\n",
        "x=10\n",
        "y=13\n",
        "#first if statement and operator\n",
        "if x>10 and y>13:\n",
        "    print(\"Both conditions are correct\")\n",
        "else:\n",
        "    print(\"At least one of the conditions is false\")\n"
      ],
      "metadata": {
        "trusted": true,
        "id": "ba71d8c8-2a92-4275-95b6-ebd2565cc0ab",
        "outputId": "ef146e41-9679-4504-d631-519aa9341655"
      },
      "outputs": [
        {
          "name": "stdout",
          "output_type": "stream",
          "text": "At least one of the conditions is false\n"
        }
      ],
      "execution_count": null
    },
    {
      "id": "6bb360df-cd3b-4bea-9b13-348d41125f99",
      "cell_type": "code",
      "source": [
        "# Assign number of orders\n",
        "x = 120  # You can change this value to test\n",
        "if x>100:\n",
        "    print(\"A busy day\")\n",
        "else:\n",
        "    print(\"A calm day\")"
      ],
      "metadata": {
        "trusted": true,
        "id": "6bb360df-cd3b-4bea-9b13-348d41125f99",
        "outputId": "60a6c6c5-210d-47e4-d916-fa696d074692"
      },
      "outputs": [
        {
          "name": "stdout",
          "output_type": "stream",
          "text": "A busy day\n"
        }
      ],
      "execution_count": null
    },
    {
      "id": "faaf6ca5-6350-40e5-ae12-d69da15e1216",
      "cell_type": "code",
      "source": [
        "# if else and elif condition\n",
        "def check_temperature(temp):\n",
        "    if temp>30:\n",
        "        return \"the weather is unbearable\"\n",
        "    elif temp <10:\n",
        "          return \"the weather is cold\"\n",
        "    else:\n",
        "        return \"the weather is unbearable\"\n",
        "\n",
        "\n",
        "print(check_temperature(35))\n",
        "print(check_temperature(9))"
      ],
      "metadata": {
        "trusted": true,
        "id": "faaf6ca5-6350-40e5-ae12-d69da15e1216",
        "outputId": "46944c30-7d15-49cc-e818-ef764881c5a1"
      },
      "outputs": [
        {
          "name": "stdout",
          "output_type": "stream",
          "text": "the weather is unbearable\nthe weather is cold\n"
        }
      ],
      "execution_count": null
    },
    {
      "id": "379078cf-c9a6-43ed-9d7b-29f8c2489ce4",
      "cell_type": "code",
      "source": [
        "def check_temperature(temp):\n",
        "    if temp > 30:\n",
        "        return \"It's hot outside.\"\n",
        "    elif temp > 20:\n",
        "        return \"The weather is nice.\"\n",
        "    elif temp > 10:\n",
        "        return \"It's a bit chilly.\"\n",
        "    else:\n",
        "        return \"It's cold outside.\"\n",
        "\n",
        "# Example usage\n",
        "print(check_temperature(35))  # Output: It's hot outside.\n",
        "print(check_temperature(15))  # Output: It's a bit chilly."
      ],
      "metadata": {
        "trusted": true,
        "id": "379078cf-c9a6-43ed-9d7b-29f8c2489ce4",
        "outputId": "17a806c9-3f87-46a9-f3ec-a7dc56d1d02c"
      },
      "outputs": [
        {
          "name": "stdout",
          "output_type": "stream",
          "text": "It's hot outside.\nIt's a bit chilly.\n"
        }
      ],
      "execution_count": null
    },
    {
      "id": "56588a4d-888a-497f-a6c4-7adb1f4c75d3",
      "cell_type": "code",
      "source": [
        "#function print vs return\n",
        "def exponentiation_exp_2(x):\n",
        "    result=x**2\n",
        "    print(\"Raised to the power of 2:\")\n",
        "    return result\n",
        "exponentiation_exp_2(2)"
      ],
      "metadata": {
        "trusted": true,
        "id": "56588a4d-888a-497f-a6c4-7adb1f4c75d3",
        "outputId": "7b137b8f-3832-4c39-ee2a-2d7f916f9bbf"
      },
      "outputs": [
        {
          "name": "stdout",
          "output_type": "stream",
          "text": "Raised to the power of 2:\n"
        },
        {
          "execution_count": 1,
          "output_type": "execute_result",
          "data": {
            "text/plain": "4"
          },
          "metadata": {}
        }
      ],
      "execution_count": null
    },
    {
      "id": "306de69a-491f-42fe-8aa9-40cb42295efc",
      "cell_type": "code",
      "source": [
        "#using function in another function\n",
        "def wage(w_hours):\n",
        "    return w_hours*25\n",
        "def bonus(w_hours):\n",
        "    return wage (w_hours)+50\n",
        "wage(8), bonus(8)\n"
      ],
      "metadata": {
        "trusted": true,
        "id": "306de69a-491f-42fe-8aa9-40cb42295efc",
        "outputId": "4460f082-5bcd-42d8-f817-f78c1332a07f"
      },
      "outputs": [
        {
          "execution_count": 3,
          "output_type": "execute_result",
          "data": {
            "text/plain": "(200, 250)"
          },
          "metadata": {}
        }
      ],
      "execution_count": null
    },
    {
      "id": "f12885f5-761e-4bbe-8d9b-ad6b2ad9b323",
      "cell_type": "code",
      "source": [
        "#Define a function called plus_five() that adds 5 to its argument.\n",
        "#Then, define another function named m_by_3() that multiplies the argument (the result obtained from plus_five()) by 3.\n",
        "#Verify your code was correct by calling the second function with an argument of 5. Was your output equal to 30?\n",
        "def plus_five(x):\n",
        "    return x+5\n",
        "def m_by_3(x):\n",
        "    return plus_five (x)*3\n",
        "m_by_3(5)\n"
      ],
      "metadata": {
        "trusted": true,
        "id": "f12885f5-761e-4bbe-8d9b-ad6b2ad9b323",
        "outputId": "81f7e280-ed1f-4881-e005-f39fd90dc012"
      },
      "outputs": [
        {
          "execution_count": 4,
          "output_type": "execute_result",
          "data": {
            "text/plain": "30"
          },
          "metadata": {}
        }
      ],
      "execution_count": null
    },
    {
      "id": "7eaa01bc-bc0f-4e5a-bb2f-02bc4fe8ee2b",
      "cell_type": "code",
      "source": [
        "#Define a function, called compare_the_two(), with two arguments.\n",
        "#If the first one is greater than the second one, let it print \"Greater\".\n",
        "#If the second one is greater, it should print \"Less\". Let it print \"Equal\" if the two values are the same number.\n",
        "def compare_the_two(x,y):\n",
        "    if x>y:\n",
        "        return \"greater\"\n",
        "    elif x<y:\n",
        "        return \"less\"\n",
        "    else:\n",
        "        return \"Equal\"\n",
        "compare_the_two (10,15)"
      ],
      "metadata": {
        "trusted": true,
        "id": "7eaa01bc-bc0f-4e5a-bb2f-02bc4fe8ee2b",
        "outputId": "61914792-af4e-4291-8d6a-c443d1a5c5d4"
      },
      "outputs": [
        {
          "execution_count": 8,
          "output_type": "execute_result",
          "data": {
            "text/plain": "'less'"
          },
          "metadata": {}
        }
      ],
      "execution_count": null
    },
    {
      "id": "97daeb7c-a4e3-4e20-8b8d-4a19dc79af97",
      "cell_type": "code",
      "source": [
        "#notable built in functions in python\n",
        "int(3.6)\n",
        "float(3)\n",
        "max(30,90,10)\n",
        "\n"
      ],
      "metadata": {
        "trusted": true,
        "id": "97daeb7c-a4e3-4e20-8b8d-4a19dc79af97",
        "outputId": "c6b87e5e-7846-4adc-d3ec-bb57588fc944"
      },
      "outputs": [
        {
          "execution_count": 10,
          "output_type": "execute_result",
          "data": {
            "text/plain": "90"
          },
          "metadata": {}
        }
      ],
      "execution_count": null
    },
    {
      "id": "cea5deaa-b887-41f7-8adc-1c97753dff74",
      "cell_type": "code",
      "source": [
        "#abs function always give absolute value\n",
        "z=-20\n",
        "abs(z)"
      ],
      "metadata": {
        "trusted": true,
        "id": "cea5deaa-b887-41f7-8adc-1c97753dff74",
        "outputId": "13db105b-478d-403b-c099-b45f53ce6a27"
      },
      "outputs": [
        {
          "execution_count": 12,
          "output_type": "execute_result",
          "data": {
            "text/plain": "20"
          },
          "metadata": {}
        }
      ],
      "execution_count": null
    },
    {
      "id": "86b001d2-1e6f-4f1c-bf1b-665cdbbc22e1",
      "cell_type": "code",
      "source": [
        "#sum functiom\n",
        "x=[1,9,8,6,8]\n",
        "sum(x)"
      ],
      "metadata": {
        "trusted": true,
        "id": "86b001d2-1e6f-4f1c-bf1b-665cdbbc22e1",
        "outputId": "2b4ad57e-90ae-4875-f693-a2d3e61f3566"
      },
      "outputs": [
        {
          "execution_count": 13,
          "output_type": "execute_result",
          "data": {
            "text/plain": "32"
          },
          "metadata": {}
        }
      ],
      "execution_count": null
    },
    {
      "id": "4c8b5efd-3ed0-4380-88f6-56b6e5bd3430",
      "cell_type": "code",
      "source": [
        "#round function return round number\n",
        "round(3.90009,2)\n"
      ],
      "metadata": {
        "trusted": true,
        "id": "4c8b5efd-3ed0-4380-88f6-56b6e5bd3430",
        "outputId": "372ae73c-dfdd-4d06-871f-6d7ee09e02e0"
      },
      "outputs": [
        {
          "execution_count": 14,
          "output_type": "execute_result",
          "data": {
            "text/plain": "3.9"
          },
          "metadata": {}
        }
      ],
      "execution_count": null
    },
    {
      "id": "3ba588e3-a8f4-4f4e-8941-a603c4ffe61c",
      "cell_type": "code",
      "source": [
        "#pow function\n",
        "pow(3,9)"
      ],
      "metadata": {
        "trusted": true,
        "id": "3ba588e3-a8f4-4f4e-8941-a603c4ffe61c",
        "outputId": "c38e9dc1-b804-453c-a8ff-604e896436ad"
      },
      "outputs": [
        {
          "execution_count": 15,
          "output_type": "execute_result",
          "data": {
            "text/plain": "19683"
          },
          "metadata": {}
        }
      ],
      "execution_count": null
    },
    {
      "id": "2d5b0cbc-e884-4968-8891-8ee04f05949f",
      "cell_type": "code",
      "source": [
        "#len function\n",
        "len('asmaulhosna')\n"
      ],
      "metadata": {
        "trusted": true,
        "id": "2d5b0cbc-e884-4968-8891-8ee04f05949f",
        "outputId": "c333b2f3-5b03-4fab-cd14-f4e7a969797a"
      },
      "outputs": [
        {
          "execution_count": 16,
          "output_type": "execute_result",
          "data": {
            "text/plain": "11"
          },
          "metadata": {}
        }
      ],
      "execution_count": null
    },
    {
      "id": "e12f59d7-3daf-474c-ac44-836debd87f51",
      "cell_type": "code",
      "source": [
        "max(25, 65, 890, 15)\n"
      ],
      "metadata": {
        "trusted": true,
        "id": "e12f59d7-3daf-474c-ac44-836debd87f51",
        "outputId": "d67a5c50-b688-4520-fa8f-98b5ea332f8a"
      },
      "outputs": [
        {
          "execution_count": 18,
          "output_type": "execute_result",
          "data": {
            "text/plain": "890"
          },
          "metadata": {}
        }
      ],
      "execution_count": null
    },
    {
      "id": "92ce19a1-0a48-4e16-af64-2e47cd3f0176",
      "cell_type": "code",
      "source": [
        "#Create a function, called distance_from_zero(), that returns the absolute value of a provided single argument and prints a statement \"Not possible\" if the argument provided is not a number.\n",
        "#To solve the task, use the type() function in the body of distance_from_zero().\n",
        "#Call the function with the values of -10 and \"cat\" to verify it works correctly.\n",
        "def distance_from_zero(x):\n",
        "    if type(x) == int or type(x) == float:\n",
        "        return abs(x)\n",
        "    else:\n",
        "        print(\"Not possible\")\n",
        "(distance_from_zero(-10)"
      ],
      "metadata": {
        "trusted": true,
        "id": "92ce19a1-0a48-4e16-af64-2e47cd3f0176",
        "outputId": "2ec115eb-35db-47c9-fd38-12e64098a0f9"
      },
      "outputs": [
        {
          "execution_count": 22,
          "output_type": "execute_result",
          "data": {
            "text/plain": "10"
          },
          "metadata": {}
        }
      ],
      "execution_count": null
    },
    {
      "id": "a59fc203-9e16-46b5-94ae-e6c52b26c954",
      "cell_type": "code",
      "source": [
        "#list ( A list is a type of sequence of data points) use square brackets[], use quotation marks ''\n",
        "#delete one variable and adding new\n",
        "participants=['john', 'leila', 'gregory','Cate']\n",
        "participants\n",
        "\n"
      ],
      "metadata": {
        "trusted": true,
        "id": "a59fc203-9e16-46b5-94ae-e6c52b26c954",
        "outputId": "067127eb-c769-4dfb-be9d-346756de9c08"
      },
      "outputs": [
        {
          "execution_count": 2,
          "output_type": "execute_result",
          "data": {
            "text/plain": "['john', 'leila', 'gregory', 'Cate']"
          },
          "metadata": {}
        }
      ],
      "execution_count": null
    },
    {
      "id": "ca0b19f6-cf16-4ba2-af2e-790910801547",
      "cell_type": "code",
      "source": [
        "participants[3]='Maria'\n",
        "participants"
      ],
      "metadata": {
        "trusted": true,
        "id": "ca0b19f6-cf16-4ba2-af2e-790910801547",
        "outputId": "00be4503-d496-4e12-938b-0e3879940405"
      },
      "outputs": [
        {
          "execution_count": 2,
          "output_type": "execute_result",
          "data": {
            "text/plain": "['john', 'leila', 'gregory', 'Maria']"
          },
          "metadata": {}
        }
      ],
      "execution_count": null
    },
    {
      "id": "74983c5c-a0b4-443f-8da3-259eba6a51a2",
      "cell_type": "code",
      "source": [
        "#del removes an item from a list\n",
        "del participants[2]\n",
        "participants"
      ],
      "metadata": {
        "trusted": true,
        "id": "74983c5c-a0b4-443f-8da3-259eba6a51a2",
        "outputId": "c11e6510-572c-4715-8a23-88aae860d8d8"
      },
      "outputs": [
        {
          "execution_count": 3,
          "output_type": "execute_result",
          "data": {
            "text/plain": "['john', 'leila', 'Maria']"
          },
          "metadata": {}
        }
      ],
      "execution_count": null
    },
    {
      "id": "cb87d638-0453-443a-81be-3a9f559f7d90",
      "cell_type": "code",
      "source": [
        "Numbers=['10','25','40','50']\n",
        "Numbers[1]"
      ],
      "metadata": {
        "trusted": true,
        "id": "cb87d638-0453-443a-81be-3a9f559f7d90",
        "outputId": "691fc477-59ed-4bf7-9433-5de864fcdece"
      },
      "outputs": [
        {
          "execution_count": 5,
          "output_type": "execute_result",
          "data": {
            "text/plain": "'25'"
          },
          "metadata": {}
        }
      ],
      "execution_count": null
    },
    {
      "id": "10f7a16e-d5d0-4120-a8ce-9bf07a8a72cf",
      "cell_type": "code",
      "source": [
        "Numbers=[10,25,40,50]\n",
        "Numbers[1]"
      ],
      "metadata": {
        "trusted": true,
        "id": "10f7a16e-d5d0-4120-a8ce-9bf07a8a72cf",
        "outputId": "4058d245-8eed-47cc-836c-cfcfe30d3d64"
      },
      "outputs": [
        {
          "execution_count": 7,
          "output_type": "execute_result",
          "data": {
            "text/plain": "25"
          },
          "metadata": {}
        }
      ],
      "execution_count": null
    },
    {
      "id": "b2690504-4824-47f5-b1f3-3dceb6353d75",
      "cell_type": "code",
      "source": [
        "#help yourself with methods Which is the syntax for invoking a method in Python?\n",
        "#NAME OF THE OBJECT,DOT OPERATOR, NAME OF THE METHOD, PARENTHESES\n",
        "participants.append(\"Asma\")\n",
        "participants"
      ],
      "metadata": {
        "trusted": true,
        "id": "b2690504-4824-47f5-b1f3-3dceb6353d75",
        "outputId": "3dba1c58-c8af-4077-9254-e0f123ced54b"
      },
      "outputs": [
        {
          "execution_count": 3,
          "output_type": "execute_result",
          "data": {
            "text/plain": "['john', 'leila', 'gregory', 'Cate', 'Asma']"
          },
          "metadata": {}
        }
      ],
      "execution_count": null
    },
    {
      "id": "75e8f318-4a49-4509-bbef-cd82c08f2e33",
      "cell_type": "code",
      "source": [
        "#with the extend function you can add more value\n",
        "participants.extend(['joynab','hurun'])\n",
        "participants"
      ],
      "metadata": {
        "trusted": true,
        "id": "75e8f318-4a49-4509-bbef-cd82c08f2e33",
        "outputId": "4010009c-cb3d-4fc8-94bb-7d3c1171b0ff"
      },
      "outputs": [
        {
          "execution_count": 4,
          "output_type": "execute_result",
          "data": {
            "text/plain": "['john', 'leila', 'gregory', 'Cate', 'Asma', 'joynab', 'hurun']"
          },
          "metadata": {}
        }
      ],
      "execution_count": null
    },
    {
      "id": "8ff03a01-7f5d-45e4-ac47-ff356e5d32f7",
      "cell_type": "code",
      "source": [
        "print('the first participant is: '+participants[0]+'.')"
      ],
      "metadata": {
        "trusted": true,
        "id": "8ff03a01-7f5d-45e4-ac47-ff356e5d32f7",
        "outputId": "60a18657-da9a-4b5c-c93a-ac42b8df3950"
      },
      "outputs": [
        {
          "name": "stdout",
          "output_type": "stream",
          "text": "the first participant is: john.\n"
        }
      ],
      "execution_count": null
    },
    {
      "id": "d04c4da7-db7a-422e-9745-c2523dc8946a",
      "cell_type": "code",
      "source": [
        "len(participants)"
      ],
      "metadata": {
        "trusted": true,
        "id": "d04c4da7-db7a-422e-9745-c2523dc8946a",
        "outputId": "e74cc535-4f33-43a7-bf09-28936db887cd"
      },
      "outputs": [
        {
          "execution_count": 6,
          "output_type": "execute_result",
          "data": {
            "text/plain": "7"
          },
          "metadata": {}
        }
      ],
      "execution_count": null
    },
    {
      "id": "b81f1aec-5919-4bdb-abbe-89bda9857753",
      "cell_type": "code",
      "source": [
        "Numbers = [15, 40, 50, 100, 115, 140]\n",
        "print('The fourth element of the Numbers list is:', Numbers[4])"
      ],
      "metadata": {
        "trusted": true,
        "id": "b81f1aec-5919-4bdb-abbe-89bda9857753",
        "outputId": "61534ccd-2f99-48b8-fca6-8fad8914b1da"
      },
      "outputs": [
        {
          "name": "stdout",
          "output_type": "stream",
          "text": "The fourth element of the Numbers list is: 115\n"
        }
      ],
      "execution_count": null
    },
    {
      "id": "70616daf-3da8-47b3-9a51-862696c299a5",
      "cell_type": "code",
      "source": [
        "#slicing list\n",
        "participants[1:3]"
      ],
      "metadata": {
        "trusted": true,
        "id": "70616daf-3da8-47b3-9a51-862696c299a5",
        "outputId": "6639015c-a5f9-4a81-f63b-879098f89d14"
      },
      "outputs": [
        {
          "execution_count": 12,
          "output_type": "execute_result",
          "data": {
            "text/plain": "['leila', 'gregory']"
          },
          "metadata": {}
        }
      ],
      "execution_count": null
    },
    {
      "id": "b6c91431-2c69-4f44-bfb2-5b8ae0aad2fc",
      "cell_type": "code",
      "source": [
        "participants[:2] #first two"
      ],
      "metadata": {
        "trusted": true,
        "id": "b6c91431-2c69-4f44-bfb2-5b8ae0aad2fc",
        "outputId": "7b60d898-c3e5-4204-917d-32603a01778d"
      },
      "outputs": [
        {
          "execution_count": 13,
          "output_type": "execute_result",
          "data": {
            "text/plain": "['john', 'leila']"
          },
          "metadata": {}
        }
      ],
      "execution_count": null
    },
    {
      "id": "dfa4b320-37c5-4000-888d-0fcce0b83000",
      "cell_type": "code",
      "source": [
        "participants[4:] #4th to till last value"
      ],
      "metadata": {
        "trusted": true,
        "id": "dfa4b320-37c5-4000-888d-0fcce0b83000",
        "outputId": "e07d225f-9b2d-4ef7-9503-ca25640c0b0e"
      },
      "outputs": [
        {
          "execution_count": 14,
          "output_type": "execute_result",
          "data": {
            "text/plain": "['Asma', 'joynab', 'hurun']"
          },
          "metadata": {}
        }
      ],
      "execution_count": null
    },
    {
      "id": "1f4b47ba-bd12-4f97-8a9f-8e067bbda7d7",
      "cell_type": "code",
      "source": [
        "participants[-2:]"
      ],
      "metadata": {
        "trusted": true,
        "id": "1f4b47ba-bd12-4f97-8a9f-8e067bbda7d7",
        "outputId": "5cf38e7c-ac08-48c6-dc05-59d451c0f29f"
      },
      "outputs": [
        {
          "execution_count": 15,
          "output_type": "execute_result",
          "data": {
            "text/plain": "['joynab', 'hurun']"
          },
          "metadata": {}
        }
      ],
      "execution_count": null
    },
    {
      "id": "54e6fb9a-8a15-424e-b1e7-6b39278b3251",
      "cell_type": "code",
      "source": [
        "participants.index(\"joynab\")"
      ],
      "metadata": {
        "trusted": true,
        "id": "54e6fb9a-8a15-424e-b1e7-6b39278b3251",
        "outputId": "cfdd61ca-62ef-42ce-e98d-431495ef8a06"
      },
      "outputs": [
        {
          "execution_count": 16,
          "output_type": "execute_result",
          "data": {
            "text/plain": "5"
          },
          "metadata": {}
        }
      ],
      "execution_count": null
    },
    {
      "id": "49a08cc1-9905-4763-b935-b6c770b74c35",
      "cell_type": "code",
      "source": [
        "bigger_list=[participants,Numbers]\n",
        "bigger_list"
      ],
      "metadata": {
        "trusted": true,
        "id": "49a08cc1-9905-4763-b935-b6c770b74c35",
        "outputId": "f3594c42-acd1-49a6-a70a-8f6db0603ae8"
      },
      "outputs": [
        {
          "execution_count": 19,
          "output_type": "execute_result",
          "data": {
            "text/plain": "[['john', 'leila', 'gregory', 'Cate', 'Asma', 'joynab', 'hurun'],\n [15, 40, 50, 100, 115, 140]]"
          },
          "metadata": {}
        }
      ],
      "execution_count": null
    },
    {
      "id": "f657f5bb-3492-4e07-b7e4-d658726d62c1",
      "cell_type": "code",
      "source": [
        "participants.sort() #smallest to largest\n",
        "participants"
      ],
      "metadata": {
        "trusted": true,
        "id": "f657f5bb-3492-4e07-b7e4-d658726d62c1",
        "outputId": "45f67a72-8d8a-471e-b0ee-9579ed0c3cf1"
      },
      "outputs": [
        {
          "execution_count": 21,
          "output_type": "execute_result",
          "data": {
            "text/plain": "['Asma', 'Cate', 'gregory', 'hurun', 'john', 'joynab', 'leila']"
          },
          "metadata": {}
        }
      ],
      "execution_count": null
    },
    {
      "id": "1c15e0e5-d354-43ba-9aff-aabc804b3c68",
      "cell_type": "code",
      "source": [
        "participants.sort(reverse=True) #largest to smallest\n",
        "participants"
      ],
      "metadata": {
        "trusted": true,
        "id": "1c15e0e5-d354-43ba-9aff-aabc804b3c68",
        "outputId": "ccca3fe7-ffdd-4c6f-da04-8361a3e78ea5"
      },
      "outputs": [
        {
          "execution_count": 22,
          "output_type": "execute_result",
          "data": {
            "text/plain": "['leila', 'joynab', 'john', 'hurun', 'gregory', 'Cate', 'Asma']"
          },
          "metadata": {}
        }
      ],
      "execution_count": null
    },
    {
      "id": "c7605e32-7a4f-4729-939f-8c84aedb2d8d",
      "cell_type": "code",
      "source": [
        "Numbers = [15, 40, 50, 100, 115, 140]\n",
        "Numbers[3:5]"
      ],
      "metadata": {
        "trusted": true,
        "id": "c7605e32-7a4f-4729-939f-8c84aedb2d8d",
        "outputId": "5683f645-c18d-43c4-c28f-a19f95e39723"
      },
      "outputs": [
        {
          "execution_count": 24,
          "output_type": "execute_result",
          "data": {
            "text/plain": "[100, 115]"
          },
          "metadata": {}
        }
      ],
      "execution_count": null
    },
    {
      "id": "9e1d29f2-d355-419c-a877-1dd94883c11e",
      "cell_type": "code",
      "source": [
        "Numbers = [15, 40, 50, 100, 115, 140] #first four\n",
        "Numbers[:4]"
      ],
      "metadata": {
        "trusted": true,
        "id": "9e1d29f2-d355-419c-a877-1dd94883c11e",
        "outputId": "dde968df-1c3d-4bda-c476-5c620bc4899f"
      },
      "outputs": [
        {
          "execution_count": 25,
          "output_type": "execute_result",
          "data": {
            "text/plain": "[15, 40, 50, 100]"
          },
          "metadata": {}
        }
      ],
      "execution_count": null
    },
    {
      "id": "daadda25-5a42-4df2-aaec-6049e8df6d91",
      "cell_type": "code",
      "source": [
        "Numbers = [15, 40, 50, 100, 115, 140]\n",
        "Numbers[-4:]"
      ],
      "metadata": {
        "trusted": true,
        "id": "daadda25-5a42-4df2-aaec-6049e8df6d91",
        "outputId": "3417c727-3091-4938-eac2-34d7424b8789"
      },
      "outputs": [
        {
          "execution_count": 26,
          "output_type": "execute_result",
          "data": {
            "text/plain": "[50, 100, 115, 140]"
          },
          "metadata": {}
        }
      ],
      "execution_count": null
    },
    {
      "id": "dd916d2a-da85-4598-a56e-f8b40fcc0eea",
      "cell_type": "code",
      "source": [
        "Numbers = [15, 40, 50, 100, 115, 140]\n",
        "Two_Numbers=[1,2]\n",
        "All_Numbers=[Numbers,Two_Numbers]\n",
        "All_Numbers.sort()\n",
        "All_Numbers"
      ],
      "metadata": {
        "trusted": true,
        "id": "dd916d2a-da85-4598-a56e-f8b40fcc0eea",
        "outputId": "4e77da9c-bab1-4b88-bbbd-81c3aacfd97e"
      },
      "outputs": [
        {
          "execution_count": 29,
          "output_type": "execute_result",
          "data": {
            "text/plain": "[[1, 2], [15, 40, 50, 100, 115, 140]]"
          },
          "metadata": {}
        }
      ],
      "execution_count": null
    },
    {
      "id": "9ed04890-772d-490a-8812-22e081ab0360",
      "cell_type": "code",
      "source": [
        "#tuples elements are placed within parentheses (tuple is kind of list)\n",
        "(age,years_of_school)=\"30,17\".split(',')\n",
        "print(age)\n",
        "print(years_of_school)"
      ],
      "metadata": {
        "trusted": true,
        "id": "9ed04890-772d-490a-8812-22e081ab0360",
        "outputId": "a8d1f56a-21ec-4c93-f36f-9264016e219a"
      },
      "outputs": [
        {
          "name": "stdout",
          "output_type": "stream",
          "text": "30\n17\n"
        }
      ],
      "execution_count": null
    },
    {
      "id": "8384335d-f792-4a97-9b41-20d1dac369b1",
      "cell_type": "code",
      "source": [
        "#functions can provide tuples as return values\n",
        "def square_info(x):\n",
        "    A=x**2\n",
        "    P=4**x\n",
        "    print(\"Area and the parameter is: \")\n",
        "    return A,P\n",
        "square_info(3)\n"
      ],
      "metadata": {
        "trusted": true,
        "id": "8384335d-f792-4a97-9b41-20d1dac369b1",
        "outputId": "6ad2bd11-d753-40a1-dcef-1f1e0ff0b77b"
      },
      "outputs": [
        {
          "name": "stdout",
          "output_type": "stream",
          "text": "Area and the parameter is:\n"
        },
        {
          "execution_count": 1,
          "output_type": "execute_result",
          "data": {
            "text/plain": "(9, 64)"
          },
          "metadata": {}
        }
      ],
      "execution_count": null
    },
    {
      "id": "7a665aab-c1e6-4be2-a1cd-ff22b803d4e2",
      "cell_type": "code",
      "source": [
        "(name,age)=\"Peter,24\".split(',')\n",
        "print (name)\n",
        "print(age)"
      ],
      "metadata": {
        "trusted": true,
        "id": "7a665aab-c1e6-4be2-a1cd-ff22b803d4e2",
        "outputId": "0f858afa-e7a2-4830-f947-a778ed219849"
      },
      "outputs": [
        {
          "name": "stdout",
          "output_type": "stream",
          "text": "Peter\n24\n"
        }
      ],
      "execution_count": null
    },
    {
      "id": "45dd6376-fe52-4e52-8d02-fd09df788149",
      "cell_type": "code",
      "source": [
        "def rectangle_info(l, w):\n",
        "    area = l * w\n",
        "    perimeter = 2 * (l+ w)\n",
        "    print(\"the area and perimeter would be:\")\n",
        "    return area, perimeter\n",
        "rectangle_info(2,10)"
      ],
      "metadata": {
        "trusted": true,
        "id": "45dd6376-fe52-4e52-8d02-fd09df788149",
        "outputId": "4eab2baf-5440-4032-f7ca-418ab6340947"
      },
      "outputs": [
        {
          "name": "stdout",
          "output_type": "stream",
          "text": "the area and perimeter would be:\n"
        },
        {
          "execution_count": 5,
          "output_type": "execute_result",
          "data": {
            "text/plain": "(20, 24)"
          },
          "metadata": {}
        }
      ],
      "execution_count": null
    },
    {
      "id": "d3667cf9-6ba2-4544-a991-01980080f276",
      "cell_type": "code",
      "source": [
        "#dictionary\n",
        "dict={'k1':'cat', 'k2':'dog','k3':'mouse','k4':'fish'}\n",
        "dict\n"
      ],
      "metadata": {
        "trusted": true,
        "id": "d3667cf9-6ba2-4544-a991-01980080f276",
        "outputId": "0f0beac0-abc6-4921-b8a9-fa6aa9e675de"
      },
      "outputs": [
        {
          "execution_count": 1,
          "output_type": "execute_result",
          "data": {
            "text/plain": "{'k1': 'cat', 'k2': 'dog', 'k3': 'mouse', 'k4': 'fish'}"
          },
          "metadata": {}
        }
      ],
      "execution_count": null
    },
    {
      "id": "598132ee-8877-40c0-a929-eca1234bc1f8",
      "cell_type": "code",
      "source": [
        "dict['k2']"
      ],
      "metadata": {
        "trusted": true,
        "id": "598132ee-8877-40c0-a929-eca1234bc1f8",
        "outputId": "ac07ee74-d1aa-4f1c-da15-78911a9732a4"
      },
      "outputs": [
        {
          "execution_count": 2,
          "output_type": "execute_result",
          "data": {
            "text/plain": "'dog'"
          },
          "metadata": {}
        }
      ],
      "execution_count": null
    },
    {
      "id": "d0854036-01b6-4f6e-87d3-c91e3874b4c7",
      "cell_type": "code",
      "source": [
        "dict['u5']='parrot'\n",
        "dict"
      ],
      "metadata": {
        "trusted": true,
        "id": "d0854036-01b6-4f6e-87d3-c91e3874b4c7",
        "outputId": "eacf53c8-b3d2-450b-cdf8-374bd3d3d0e4"
      },
      "outputs": [
        {
          "execution_count": 4,
          "output_type": "execute_result",
          "data": {
            "text/plain": "{'k1': 'cat',\n 'k2': 'dog',\n 'k3': 'mouse',\n 'k4': 'fish',\n 'k5': 'parrot',\n 'u5': 'parrot'}"
          },
          "metadata": {}
        }
      ],
      "execution_count": null
    },
    {
      "id": "c493ec7f-df6d-4915-a56c-aa6583852e7b",
      "cell_type": "code",
      "source": [
        "Team={}\n",
        "Team['point Guard']='Drink'\n",
        "Team['shooting guard']='Ai'\n",
        "Team['small forward']='sean'\n",
        "Team['center']='Hector'"
      ],
      "metadata": {
        "trusted": true,
        "id": "c493ec7f-df6d-4915-a56c-aa6583852e7b"
      },
      "outputs": [],
      "execution_count": null
    },
    {
      "id": "622533f3-7920-4e84-ae38-f45943256b8a",
      "cell_type": "code",
      "source": [
        "print(Team)"
      ],
      "metadata": {
        "trusted": true,
        "id": "622533f3-7920-4e84-ae38-f45943256b8a",
        "outputId": "223cceee-1436-4e57-f9e3-9271a4adaab4"
      },
      "outputs": [
        {
          "name": "stdout",
          "output_type": "stream",
          "text": "{'point Guard': 'Drink', 'shooting guard': 'Ai', 'small forward': 'sean', 'center': 'Hector'}\n"
        }
      ],
      "execution_count": null
    },
    {
      "id": "09b4fc65-bae8-4449-947c-f98a03834eee",
      "cell_type": "code",
      "source": [
        "Team ['point Guard']"
      ],
      "metadata": {
        "trusted": true,
        "id": "09b4fc65-bae8-4449-947c-f98a03834eee",
        "outputId": "d58a4f1a-1dd1-4428-c169-3f94ca596bd7"
      },
      "outputs": [
        {
          "execution_count": 10,
          "output_type": "execute_result",
          "data": {
            "text/plain": "'Drink'"
          },
          "metadata": {}
        }
      ],
      "execution_count": null
    },
    {
      "id": "d95cfdce-56ce-473c-8c55-4474c3e0a3ed",
      "cell_type": "code",
      "source": [
        "#with using get function in dictionry function will give output none value of object is not  define\n",
        "print(Team.get('coach'))"
      ],
      "metadata": {
        "trusted": true,
        "id": "d95cfdce-56ce-473c-8c55-4474c3e0a3ed",
        "outputId": "1d9f967d-b829-4838-b63d-a8c7bad45e89"
      },
      "outputs": [
        {
          "name": "stdout",
          "output_type": "stream",
          "text": "None\n"
        }
      ],
      "execution_count": null
    },
    {
      "id": "42c0d16b-3958-425b-9f68-09b70a0363f5",
      "cell_type": "code",
      "source": [
        "Menu = {'meal_1':'Spaghetti', 'meal_2':'Fries', 'meal_3':'Hamburger', 'meal_4':'Lasagna'}\n",
        "Menu['meal_5']='lacchi'\n",
        "Menu['meal_5']"
      ],
      "metadata": {
        "trusted": true,
        "id": "42c0d16b-3958-425b-9f68-09b70a0363f5",
        "outputId": "d86d3630-c507-4a97-bfb4-dce47adda8ef"
      },
      "outputs": [
        {
          "execution_count": 14,
          "output_type": "execute_result",
          "data": {
            "text/plain": "'lacchi'"
          },
          "metadata": {}
        }
      ],
      "execution_count": null
    },
    {
      "id": "c54265fd-10a3-4f67-9c3c-29ab89344559",
      "cell_type": "code",
      "source": [
        "Menu = {'meal_1':'Spaghetti', 'meal_2':'Fries', 'meal_3':'Hamburger', 'meal_4':'Lasagna'}\n",
        "Menu['meal_3']='Cheeseburger'\n",
        "Menu['meal_3']"
      ],
      "metadata": {
        "trusted": true,
        "id": "c54265fd-10a3-4f67-9c3c-29ab89344559",
        "outputId": "377c1efd-ccd7-4ae4-b38c-846ca7d9fab6"
      },
      "outputs": [
        {
          "execution_count": 15,
          "output_type": "execute_result",
          "data": {
            "text/plain": "'Cheeseburger'"
          },
          "metadata": {}
        }
      ],
      "execution_count": null
    },
    {
      "id": "7b257e50-79f2-407c-80d0-57f49e552b67",
      "cell_type": "code",
      "source": [
        "#Attach the Desserts list as a sixth meal (remember, you were supposed to add Soup as a fifth meal earlier!).\n",
        "Menu = {'meal_1':'Spaghetti', 'meal_2':'Fries', 'meal_3':'Cheeseburger', 'meal_4':'Lasagna','meal_5':'Soup'}\n",
        "Dessert = ['Pancakes', 'Ice-cream', 'Tiramisu']\n",
        "Menu ['meal_6']=Dessert\n",
        "print (Menu)"
      ],
      "metadata": {
        "trusted": true,
        "id": "7b257e50-79f2-407c-80d0-57f49e552b67",
        "outputId": "c1db6064-f5ab-451a-9253-d680e0aef749"
      },
      "outputs": [
        {
          "name": "stdout",
          "output_type": "stream",
          "text": "{'meal_1': 'Spaghetti', 'meal_2': 'Fries', 'meal_3': 'Cheeseburger', 'meal_4': 'Lasagna', 'meal_5': 'Soup', 'meal_6': ['Pancakes', 'Ice-cream', 'Tiramisu']}\n"
        }
      ],
      "execution_count": null
    },
    {
      "id": "efbd6ff2-01ba-438d-81fe-2817c4241764",
      "cell_type": "code",
      "source": [
        "Menu = {'meal_1':'Spaghetti', 'meal_2':'Fries', 'meal_3':'Cheeseburger', 'meal_4':'Lasagna', 'meal_5':'Soup'}\n",
        "Price_list = {\n",
        "    'meal_1': 10,\n",
        "    'meal_2': 5,\n",
        "    'meal_3': 8,\n",
        "    'meal_4': 12,\n",
        "    'meal_5': 5\n",
        "}"
      ],
      "metadata": {
        "trusted": true,
        "id": "efbd6ff2-01ba-438d-81fe-2817c4241764"
      },
      "outputs": [],
      "execution_count": null
    },
    {
      "id": "855aa1d4-493f-453e-ae3c-0b7e7b7c8c8c",
      "cell_type": "code",
      "source": [
        "Menu = {'meal_1':'Spaghetti', 'meal_2':'Fries', 'meal_3':'Cheeseburger', 'meal_4':'Lasagna', 'meal_5':'Soup'}\n",
        "Price_list = {\n",
        "    'meal_1': 10,\n",
        "    'meal_2': 5,\n",
        "    'meal_3': 8,\n",
        "    'meal_4': 12,\n",
        "    'meal_5': 5\n",
        "}\n",
        "print (Price_list)\n"
      ],
      "metadata": {
        "trusted": true,
        "id": "855aa1d4-493f-453e-ae3c-0b7e7b7c8c8c",
        "outputId": "434d96c1-3694-4754-bff3-3d46d03fb1ea"
      },
      "outputs": [
        {
          "name": "stdout",
          "output_type": "stream",
          "text": "{'meal_1': 10, 'meal_2': 5, 'meal_3': 8, 'meal_4': 12, 'meal_5': 5}\n"
        }
      ],
      "execution_count": null
    },
    {
      "id": "fb3cbfe9-911d-46f1-b4ba-9e9467a101e7",
      "cell_type": "code",
      "source": [
        "Price_list = {'Cheeseburger': 8, 'Fries': 5, 'Lasagna': 12, 'Soup': 5, 'Spaghetti': 10}\n",
        "print(Price_list.get('Spaghetti'))"
      ],
      "metadata": {
        "trusted": true,
        "id": "fb3cbfe9-911d-46f1-b4ba-9e9467a101e7",
        "outputId": "2c77a1bd-7699-4cc5-9fc6-72d40de74360"
      },
      "outputs": [
        {
          "name": "stdout",
          "output_type": "stream",
          "text": "10\n"
        }
      ],
      "execution_count": null
    },
    {
      "id": "39b41277-a08e-40ab-b9a1-514299a3ba17",
      "cell_type": "code",
      "source": [
        "#FOR LOOP Create a For loop that prints every digit on a new line.\n",
        "digits = [0,1,2,3,4,5,6,7,8,9]\n",
        "for i in digits:\n",
        "  print(i,end=\" \")"
      ],
      "metadata": {
        "trusted": true,
        "colab": {
          "base_uri": "https://localhost:8080/"
        },
        "id": "39b41277-a08e-40ab-b9a1-514299a3ba17",
        "outputId": "50ec89dd-d9c3-45f9-bf7d-f374385046bd"
      },
      "outputs": [
        {
          "output_type": "stream",
          "name": "stdout",
          "text": [
            "0 1 2 3 4 5 6 7 8 9 "
          ]
        }
      ],
      "execution_count": null
    },
    {
      "id": "a3981a4a-20a6-45a8-9cb1-749109cfc4b0",
      "cell_type": "code",
      "source": [
        "#while loop Create a while loop that will print all odd numbers from 0 to 30 on the same row.\n",
        "x=1\n",
        "while x<=30:\n",
        "  print(x,end=\" \")\n",
        "  x+=2\n"
      ],
      "metadata": {
        "trusted": true,
        "colab": {
          "base_uri": "https://localhost:8080/"
        },
        "id": "a3981a4a-20a6-45a8-9cb1-749109cfc4b0",
        "outputId": "b3efad07-da8b-4bfe-e1ab-9c5f6f1f7156"
      },
      "outputs": [
        {
          "output_type": "stream",
          "name": "stdout",
          "text": [
            "1 3 5 7 9 11 13 15 17 19 21 23 25 27 29 "
          ]
        }
      ],
      "execution_count": null
    },
    {
      "cell_type": "code",
      "source": [
        "# create list with the range()function\n",
        "#note: range(start,stop,step) start=the first numbrer in the list, stop= the last value+1, stop=the distance between two consecutive value\n",
        "list(range(1,20,2)) #it start from 1 and stop at 20 reducing 2"
      ],
      "metadata": {
        "colab": {
          "base_uri": "https://localhost:8080/"
        },
        "id": "v75gutWnKh1f",
        "outputId": "5facd12e-3f12-4ee3-b6e3-ecdb03a8e006"
      },
      "id": "v75gutWnKh1f",
      "execution_count": null,
      "outputs": [
        {
          "output_type": "execute_result",
          "data": {
            "text/plain": [
              "[1, 3, 5, 7, 9, 11, 13, 15, 17, 19]"
            ]
          },
          "metadata": {},
          "execution_count": 6
        }
      ]
    },
    {
      "cell_type": "code",
      "source": [
        "list(range(0,10))"
      ],
      "metadata": {
        "colab": {
          "base_uri": "https://localhost:8080/"
        },
        "id": "YUiQtvoNMbuf",
        "outputId": "c74c4d28-2519-4720-b552-e0d6d805f435"
      },
      "id": "YUiQtvoNMbuf",
      "execution_count": null,
      "outputs": [
        {
          "output_type": "execute_result",
          "data": {
            "text/plain": [
              "[0, 1, 2, 3, 4, 5, 6, 7, 8, 9]"
            ]
          },
          "metadata": {},
          "execution_count": 14
        }
      ]
    },
    {
      "cell_type": "code",
      "source": [
        "#Use the range() function to create a list with all numbers from 1 to 10\n",
        "list(range(1,11))"
      ],
      "metadata": {
        "colab": {
          "base_uri": "https://localhost:8080/"
        },
        "id": "I9M2BOgUNCAp",
        "outputId": "58affaa7-9372-436c-cb96-7b99f5c1e208"
      },
      "id": "I9M2BOgUNCAp",
      "execution_count": null,
      "outputs": [
        {
          "output_type": "execute_result",
          "data": {
            "text/plain": [
              "[1, 2, 3, 4, 5, 6, 7, 8, 9, 10]"
            ]
          },
          "metadata": {},
          "execution_count": 16
        }
      ]
    },
    {
      "cell_type": "code",
      "source": [
        "list(range(0,32,2))"
      ],
      "metadata": {
        "colab": {
          "base_uri": "https://localhost:8080/"
        },
        "id": "hibtV7cONeBa",
        "outputId": "f3d347b8-761a-4fb4-ce0d-fa1408a55651"
      },
      "id": "hibtV7cONeBa",
      "execution_count": null,
      "outputs": [
        {
          "output_type": "execute_result",
          "data": {
            "text/plain": [
              "[0, 2, 4, 6, 8, 10, 12, 14, 16, 18, 20, 22, 24, 26, 28, 30]"
            ]
          },
          "metadata": {},
          "execution_count": 18
        }
      ]
    },
    {
      "cell_type": "code",
      "source": [
        "for x list (range(1,10)):\n",
        "    print x+=2"
      ],
      "metadata": {
        "colab": {
          "base_uri": "https://localhost:8080/",
          "height": 106
        },
        "id": "f6o5cBLJN4Tg",
        "outputId": "4b1fe15c-89a4-45a2-914d-5df47a78d741"
      },
      "id": "f6o5cBLJN4Tg",
      "execution_count": null,
      "outputs": [
        {
          "output_type": "error",
          "ename": "SyntaxError",
          "evalue": "invalid syntax (ipython-input-19-3333183462.py, line 1)",
          "traceback": [
            "\u001b[0;36m  File \u001b[0;32m\"/tmp/ipython-input-19-3333183462.py\"\u001b[0;36m, line \u001b[0;32m1\u001b[0m\n\u001b[0;31m    for x list (range(1,10)):\u001b[0m\n\u001b[0m          ^\u001b[0m\n\u001b[0;31mSyntaxError\u001b[0m\u001b[0;31m:\u001b[0m invalid syntax\n"
          ]
        }
      ]
    },
    {
      "cell_type": "code",
      "source": [
        "# Create a For loop that will print all the variables from a given list multiplied by 2.\n",
        "#Let the list contain all numbers from 1 to 10. Create it with the help of the range() function.\n",
        "numbers = list(range(1, 11))\n",
        "for number in numbers:\n",
        "  print(number * 2, end=\" \")"
      ],
      "metadata": {
        "colab": {
          "base_uri": "https://localhost:8080/"
        },
        "id": "wqIiloSgUxKU",
        "outputId": "398eb904-8511-498a-b2e9-e085adfffd56"
      },
      "id": "wqIiloSgUxKU",
      "execution_count": null,
      "outputs": [
        {
          "output_type": "stream",
          "name": "stdout",
          "text": [
            "2 4 6 8 10 12 14 16 18 20 "
          ]
        }
      ]
    },
    {
      "cell_type": "code",
      "source": [
        "for x in range(1,31):\n",
        "    if x % 2 != 0:\n",
        "        print(x,end=\" \")\n",
        "    else:\n",
        "        print(\"even\",end=\" \")"
      ],
      "metadata": {
        "colab": {
          "base_uri": "https://localhost:8080/"
        },
        "id": "POdNFc2fXUxX",
        "outputId": "5e521f1c-67b9-4cf5-9344-12c34c95bf91"
      },
      "id": "POdNFc2fXUxX",
      "execution_count": null,
      "outputs": [
        {
          "output_type": "stream",
          "name": "stdout",
          "text": [
            "1 even 3 even 5 even 7 even 9 even 11 even 13 even 15 even 17 even 19 even 21 even 23 even 25 even 27 even 29 even "
          ]
        }
      ]
    },
    {
      "cell_type": "code",
      "source": [
        "#You are given the following list of numbers.\n",
        "#Iterate over this list, printing each value multiplied by 10 on the same line. Provide two solutions to this problem.\n",
        "n = [1,2,3,4,5,6]\n",
        "for number in n:\n",
        "    print (number*10,end=\" \")"
      ],
      "metadata": {
        "colab": {
          "base_uri": "https://localhost:8080/"
        },
        "id": "hQxtBI4GYPrE",
        "outputId": "6e4ed771-8711-40d3-f320-be0714a6589b"
      },
      "id": "hQxtBI4GYPrE",
      "execution_count": null,
      "outputs": [
        {
          "output_type": "stream",
          "name": "stdout",
          "text": [
            "10 20 30 40 50 60 "
          ]
        }
      ]
    },
    {
      "cell_type": "code",
      "source": [
        "for i in range(len(n)):\n",
        "  print(numbers[i] * 10, end=\" \")"
      ],
      "metadata": {
        "colab": {
          "base_uri": "https://localhost:8080/"
        },
        "id": "Kt-T6wjxZi_E",
        "outputId": "454e9b1e-eec8-42a3-b2a0-8a31fbec265e"
      },
      "id": "Kt-T6wjxZi_E",
      "execution_count": null,
      "outputs": [
        {
          "output_type": "stream",
          "name": "stdout",
          "text": [
            "10 20 30 40 50 60 "
          ]
        }
      ]
    },
    {
      "cell_type": "code",
      "source": [
        "nums = [1,35,12,24,31,51,70,100]\n",
        "def count(nums):\n",
        "    while nums<20:\n",
        "        print (nums, end=\" \")"
      ],
      "metadata": {
        "id": "EKdNo3C73IQc"
      },
      "id": "EKdNo3C73IQc",
      "execution_count": 2,
      "outputs": []
    },
    {
      "cell_type": "code",
      "source": [
        "# prompt: You are provided with the nums list. Define a function called count() containing a while loop to count the number of values in the nums list that are lower than 20 make it easy\n",
        "\n",
        "def count(nums):\n",
        "    count = 0\n",
        "    i = 0\n",
        "    while i < len(nums):\n",
        "        if nums[i] < 20:\n",
        "            count += 1\n",
        "        i += 1\n",
        "    return count\n",
        "\n",
        "print(count(nums))\n"
      ],
      "metadata": {
        "colab": {
          "base_uri": "https://localhost:8080/"
        },
        "id": "YHrsaW5g4Chk",
        "outputId": "c9a49b64-43d2-44a8-b0ea-75425e5caebe"
      },
      "id": "YHrsaW5g4Chk",
      "execution_count": 3,
      "outputs": [
        {
          "output_type": "stream",
          "name": "stdout",
          "text": [
            "2\n"
          ]
        }
      ]
    },
    {
      "cell_type": "code",
      "source": [
        "nums = [1, 35, 12, 24, 31, 51, 70, 100]\n",
        "\n",
        "def count():\n",
        "    i = 0\n",
        "    count_under_20 = 0\n",
        "    while i < len(nums):\n",
        "        if nums[i] < 20:\n",
        "            count_under_20 += 1\n",
        "        i += 1\n",
        "    print(\"Count of numbers less than 20:\", count_under_20)\n",
        "\n",
        "count()"
      ],
      "metadata": {
        "colab": {
          "base_uri": "https://localhost:8080/"
        },
        "id": "1vqPHoic434c",
        "outputId": "b57241fd-802f-4e6a-f70a-10fed1f5612c"
      },
      "id": "1vqPHoic434c",
      "execution_count": 4,
      "outputs": [
        {
          "output_type": "stream",
          "name": "stdout",
          "text": [
            "Count of numbers less than 20: 2\n"
          ]
        }
      ]
    },
    {
      "cell_type": "code",
      "source": [
        "#You are provided with the nums list. Define a function called count() containing a while loop to count the number of values in the nums list that are lower than 20.\n",
        "def count():\n",
        "  i=0\n",
        "  count_under_20=0\n",
        "  while i < len(nums):\n",
        "    if nums[i] < 20:\n",
        "      count_under_20 += 1 # Increment the count if the number is less than 20\n",
        "    i+=1 # Move to the next element in the list index\n",
        "  print(\"Count of numbers less than 20:\", count_under_20)\n",
        "\n",
        "count()"
      ],
      "metadata": {
        "colab": {
          "base_uri": "https://localhost:8080/"
        },
        "id": "R7ACGYUr5BO7",
        "outputId": "ee265dec-b53b-4ae9-f394-3dd403521a14"
      },
      "id": "R7ACGYUr5BO7",
      "execution_count": 8,
      "outputs": [
        {
          "output_type": "stream",
          "name": "stdout",
          "text": [
            "Count of numbers less than 20: 2\n"
          ]
        }
      ]
    },
    {
      "cell_type": "code",
      "source": [
        "# iterating over dictionaries\n",
        "#In this exercise you will use the same dictionaries as the ones we used in the lesson - prices and quantity.\n",
        "#This time, don't just calculate all the money Jan spent. Calculate how much she spent on products with a price of 5 dollars or more.\n",
        "prices = {\n",
        "    \"box_of_spaghetti\": 4,\n",
        "    \"lasagna\": 5,\n",
        "    \"hamburger\": 2\n",
        "}\n",
        "quantity = {\n",
        "    \"box_of_spaghetti\": 6,\n",
        "    \"lasagna\": 10,\n",
        "    \"hamburger\": 0\n",
        "}\n",
        "\n",
        "money_spent = 0\n",
        "for i in prices:\n",
        "    if prices[i] < 5:  # Check if the price of the item is less than 5\n",
        "        money_spent = money_spent + (prices[i] * quantity[i]) # Calculate and add the cost for this item\n",
        "print(money_spent)"
      ],
      "metadata": {
        "colab": {
          "base_uri": "https://localhost:8080/"
        },
        "id": "oIpFvmK7Ff2-",
        "outputId": "ce207e3a-1700-4487-87f5-bb1f5d5e5361"
      },
      "id": "oIpFvmK7Ff2-",
      "execution_count": 14,
      "outputs": [
        {
          "output_type": "stream",
          "name": "stdout",
          "text": [
            "24\n"
          ]
        }
      ]
    },
    {
      "cell_type": "code",
      "source": [
        "prices = {\n",
        "    \"box_of_spaghetti\" : 4,\n",
        "    \"lasagna\"  : 5,\n",
        "    \"hamburger\" : 2\n",
        "   }\n",
        "quantity = {\n",
        "    \"box_of_spaghetti\" : 6,\n",
        "    \"lasagna\"  : 10,\n",
        "    \"hamburger\" : 0\n",
        "    }\n",
        "\n",
        "money_spent = 0\n",
        "for i in prices:\n",
        "    if prices[i]==5:\n",
        "        money_spent=money_spent+(prices[i]*quantity[i])\n",
        "    print(money_spent)"
      ],
      "metadata": {
        "colab": {
          "base_uri": "https://localhost:8080/"
        },
        "id": "p4mDJ1REJN8Z",
        "outputId": "8150241e-4f90-494d-e1d0-ba29dfa935b8"
      },
      "id": "p4mDJ1REJN8Z",
      "execution_count": 17,
      "outputs": [
        {
          "output_type": "stream",
          "name": "stdout",
          "text": [
            "0\n",
            "50\n",
            "50\n"
          ]
        }
      ]
    },
    {
      "cell_type": "code",
      "source": [],
      "metadata": {
        "id": "vnrw0cu9Ou4N"
      },
      "id": "vnrw0cu9Ou4N",
      "execution_count": null,
      "outputs": []
    }
  ]
}