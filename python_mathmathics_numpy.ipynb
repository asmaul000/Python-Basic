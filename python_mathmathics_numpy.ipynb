{
  "nbformat": 4,
  "nbformat_minor": 0,
  "metadata": {
    "colab": {
      "provenance": []
    },
    "kernelspec": {
      "name": "python3",
      "display_name": "Python 3"
    },
    "language_info": {
      "name": "python"
    }
  },
  "cells": [
    {
      "cell_type": "code",
      "source": [
        "import numpy as np"
      ],
      "metadata": {
        "id": "LqGBF9K_NE0I"
      },
      "execution_count": 1,
      "outputs": []
    },
    {
      "cell_type": "code",
      "source": [
        "pip install numpy"
      ],
      "metadata": {
        "colab": {
          "base_uri": "https://localhost:8080/"
        },
        "id": "MDEaQL4eRG8j",
        "outputId": "a8cf117f-3d41-4074-bb0a-002a18f1f18a"
      },
      "execution_count": 3,
      "outputs": [
        {
          "output_type": "stream",
          "name": "stdout",
          "text": [
            "Requirement already satisfied: numpy in /usr/local/lib/python3.11/dist-packages (2.0.2)\n"
          ]
        }
      ]
    },
    {
      "cell_type": "code",
      "source": [
        "import numpy as np\n",
        "array_1 = np.array([4,5,7,10])\n",
        "array_2=np.array([7,10])\n",
        "print(array_2)\n",
        "np.mean(array_2)"
      ],
      "metadata": {
        "colab": {
          "base_uri": "https://localhost:8080/"
        },
        "id": "3qrtA6aaUb7u",
        "outputId": "f9918075-c478-457d-9169-5e15735f9d91"
      },
      "execution_count": 7,
      "outputs": [
        {
          "output_type": "stream",
          "name": "stdout",
          "text": [
            "[ 7 10]\n"
          ]
        },
        {
          "output_type": "execute_result",
          "data": {
            "text/plain": [
              "np.float64(8.5)"
            ]
          },
          "metadata": {},
          "execution_count": 7
        }
      ]
    },
    {
      "cell_type": "code",
      "source": [
        "#Compute and display the mean of array_1 and the overall mean of array_2.\n"
      ],
      "metadata": {
        "id": "29JMjMtRUgq7"
      },
      "execution_count": null,
      "outputs": []
    },
    {
      "cell_type": "code",
      "source": [
        "a=np.array([4,5,7,10])\n",
        "print (a)"
      ],
      "metadata": {
        "colab": {
          "base_uri": "https://localhost:8080/"
        },
        "id": "TtHxRHgCQV-7",
        "outputId": "b74e68f4-7954-423c-859c-94717a26f951"
      },
      "execution_count": 2,
      "outputs": [
        {
          "output_type": "stream",
          "name": "stdout",
          "text": [
            "[ 4  5  7 10]\n"
          ]
        }
      ]
    },
    {
      "cell_type": "code",
      "source": [
        "#Print the type of the variable to verify that it is a numpy.ndarray.\n",
        "type(a)"
      ],
      "metadata": {
        "colab": {
          "base_uri": "https://localhost:8080/"
        },
        "id": "ygE1JB4mQa5v",
        "outputId": "58cb7d52-5354-410f-b29b-e59d5e188d79"
      },
      "execution_count": 3,
      "outputs": [
        {
          "output_type": "execute_result",
          "data": {
            "text/plain": [
              "numpy.ndarray"
            ]
          },
          "metadata": {},
          "execution_count": 3
        }
      ]
    },
    {
      "cell_type": "code",
      "source": [
        "from inspect import signature"
      ],
      "metadata": {
        "id": "A5_cRpu8v8jW"
      },
      "execution_count": null,
      "outputs": []
    },
    {
      "cell_type": "code",
      "source": [],
      "metadata": {
        "id": "e1VP4T2Nv8yv"
      },
      "execution_count": null,
      "outputs": []
    },
    {
      "cell_type": "code",
      "source": [],
      "metadata": {
        "id": "G9m-yuiyv81z"
      },
      "execution_count": null,
      "outputs": []
    },
    {
      "cell_type": "code",
      "source": [],
      "metadata": {
        "id": "uFy2Wkrbv85O"
      },
      "execution_count": null,
      "outputs": []
    },
    {
      "cell_type": "code",
      "source": [],
      "metadata": {
        "id": "IkfGOA0Fv88a"
      },
      "execution_count": null,
      "outputs": []
    },
    {
      "cell_type": "code",
      "source": [
        "#scaler\n",
        "s=5\n",
        "s"
      ],
      "metadata": {
        "id": "tZ0iqbiZNRYo",
        "colab": {
          "base_uri": "https://localhost:8080/"
        },
        "outputId": "33764a5e-70d4-4e91-df8c-4ef7c6ae01f6"
      },
      "execution_count": null,
      "outputs": [
        {
          "output_type": "execute_result",
          "data": {
            "text/plain": [
              "5"
            ]
          },
          "metadata": {},
          "execution_count": 7
        }
      ]
    },
    {
      "cell_type": "code",
      "source": [
        "#vectors (2d dimension)\n",
        "v=np.array([5,-2,4])\n",
        "v"
      ],
      "metadata": {
        "id": "_zpSqJc6NXD3",
        "colab": {
          "base_uri": "https://localhost:8080/"
        },
        "outputId": "48c02c98-a01e-47c8-d997-77d11be69d2b"
      },
      "execution_count": null,
      "outputs": [
        {
          "output_type": "execute_result",
          "data": {
            "text/plain": [
              "array([ 5, -2,  4])"
            ]
          },
          "metadata": {},
          "execution_count": 8
        }
      ]
    },
    {
      "cell_type": "code",
      "source": [
        "#matrix\n",
        "m=np.array([[5,12,6],[-3,0,14]])\n",
        "m"
      ],
      "metadata": {
        "id": "ZPkPhBzeNxm0",
        "colab": {
          "base_uri": "https://localhost:8080/"
        },
        "outputId": "0e835f1b-0bf0-48ba-cc0d-ce8bfa39b2c1"
      },
      "execution_count": null,
      "outputs": [
        {
          "output_type": "execute_result",
          "data": {
            "text/plain": [
              "array([[ 5, 12,  6],\n",
              "       [-3,  0, 14]])"
            ]
          },
          "metadata": {},
          "execution_count": 9
        }
      ]
    },
    {
      "cell_type": "code",
      "source": [
        "#data types\n",
        "type(v),type(m),type(s)"
      ],
      "metadata": {
        "colab": {
          "base_uri": "https://localhost:8080/"
        },
        "id": "Vy3Zx66AjKTN",
        "outputId": "c2584ce3-f1c5-458e-b19d-fb2b74d10ae4"
      },
      "execution_count": null,
      "outputs": [
        {
          "output_type": "execute_result",
          "data": {
            "text/plain": [
              "(numpy.ndarray, numpy.ndarray, int)"
            ]
          },
          "metadata": {},
          "execution_count": 10
        }
      ]
    },
    {
      "cell_type": "code",
      "source": [
        "#data shapes\n",
        "v.shape\n"
      ],
      "metadata": {
        "colab": {
          "base_uri": "https://localhost:8080/"
        },
        "id": "ooorqGulrY4O",
        "outputId": "547af646-d498-4487-df95-df15b2a9dee5"
      },
      "execution_count": null,
      "outputs": [
        {
          "output_type": "execute_result",
          "data": {
            "text/plain": [
              "(3,)"
            ]
          },
          "metadata": {},
          "execution_count": 10
        }
      ]
    },
    {
      "cell_type": "code",
      "source": [
        "m.shape"
      ],
      "metadata": {
        "colab": {
          "base_uri": "https://localhost:8080/"
        },
        "id": "ZgLzVk0DroGv",
        "outputId": "b102ce8e-ee34-4649-ccbf-28daa4725d42"
      },
      "execution_count": null,
      "outputs": [
        {
          "output_type": "execute_result",
          "data": {
            "text/plain": [
              "(2, 3)"
            ]
          },
          "metadata": {},
          "execution_count": 11
        }
      ]
    },
    {
      "cell_type": "code",
      "source": [
        "#creating a column vector (reshape gives an array a new shape, without changing its data)\n",
        "v.reshape(1,3)\n"
      ],
      "metadata": {
        "colab": {
          "base_uri": "https://localhost:8080/"
        },
        "id": "C0pds1YUr7Dv",
        "outputId": "903472ce-27d2-4a62-9b3a-815ab5d4055c"
      },
      "execution_count": null,
      "outputs": [
        {
          "output_type": "execute_result",
          "data": {
            "text/plain": [
              "array([[ 5, -2,  4]])"
            ]
          },
          "metadata": {},
          "execution_count": 12
        }
      ]
    },
    {
      "cell_type": "code",
      "source": [
        "m.reshape(3,2)"
      ],
      "metadata": {
        "colab": {
          "base_uri": "https://localhost:8080/"
        },
        "id": "bW72JTh4sQn4",
        "outputId": "22a007dd-5f4a-43c6-b96d-143a0750a2b6"
      },
      "execution_count": null,
      "outputs": [
        {
          "output_type": "execute_result",
          "data": {
            "text/plain": [
              "array([[ 5, 12],\n",
              "       [ 6, -3],\n",
              "       [ 0, 14]])"
            ]
          },
          "metadata": {},
          "execution_count": 13
        }
      ]
    },
    {
      "cell_type": "code",
      "source": [
        "#Tensor\n",
        "m1=np.array([[22,5,7,13],[14,2,10,6],[12,7,3,16]])\n",
        "m1"
      ],
      "metadata": {
        "colab": {
          "base_uri": "https://localhost:8080/"
        },
        "id": "ITOBd6FFt1bX",
        "outputId": "09adc3fd-9af4-45ea-f9c4-e3d39690b126"
      },
      "execution_count": null,
      "outputs": [
        {
          "output_type": "execute_result",
          "data": {
            "text/plain": [
              "array([[22,  5,  7, 13],\n",
              "       [14,  2, 10,  6],\n",
              "       [12,  7,  3, 16]])"
            ]
          },
          "metadata": {},
          "execution_count": 16
        }
      ]
    },
    {
      "cell_type": "code",
      "source": [
        "m1.shape"
      ],
      "metadata": {
        "colab": {
          "base_uri": "https://localhost:8080/"
        },
        "id": "CwRqYdv-t9KW",
        "outputId": "1ef02995-1d6e-4770-f865-067b707cc2d6"
      },
      "execution_count": null,
      "outputs": [
        {
          "output_type": "execute_result",
          "data": {
            "text/plain": [
              "(3, 4)"
            ]
          },
          "metadata": {},
          "execution_count": 17
        }
      ]
    },
    {
      "cell_type": "code",
      "source": [
        "m2=np.array([[1,2,3,4],[5,6,7,8],[9,10,11,12]])\n",
        "m2"
      ],
      "metadata": {
        "colab": {
          "base_uri": "https://localhost:8080/"
        },
        "id": "T-8H6JxFuAcO",
        "outputId": "73966135-c2d7-4d7a-e9a7-6c9349f74305"
      },
      "execution_count": null,
      "outputs": [
        {
          "output_type": "execute_result",
          "data": {
            "text/plain": [
              "array([[ 1,  2,  3,  4],\n",
              "       [ 5,  6,  7,  8],\n",
              "       [ 9, 10, 11, 12]])"
            ]
          },
          "metadata": {},
          "execution_count": 12
        }
      ]
    },
    {
      "cell_type": "code",
      "source": [
        "m2.shape"
      ],
      "metadata": {
        "colab": {
          "base_uri": "https://localhost:8080/"
        },
        "id": "s6KBtBHMuD3G",
        "outputId": "f6f1d3c5-1a3f-4541-de89-537607495912"
      },
      "execution_count": null,
      "outputs": [
        {
          "output_type": "execute_result",
          "data": {
            "text/plain": [
              "(3, 4)"
            ]
          },
          "metadata": {},
          "execution_count": 13
        }
      ]
    },
    {
      "cell_type": "code",
      "source": [
        "#creating array\n",
        "t=np.array([m1,m2])\n",
        "t"
      ],
      "metadata": {
        "colab": {
          "base_uri": "https://localhost:8080/"
        },
        "id": "FbNXw8BruF6-",
        "outputId": "c3a6cb68-7947-4d26-aa5f-450e074fcc52"
      },
      "execution_count": null,
      "outputs": [
        {
          "output_type": "execute_result",
          "data": {
            "text/plain": [
              "array([[[22,  5,  7, 13],\n",
              "        [14,  2, 10,  6],\n",
              "        [12,  7,  3, 16]],\n",
              "\n",
              "       [[ 1,  2,  3,  4],\n",
              "        [ 5,  6,  7,  8],\n",
              "        [ 9, 10, 11, 12]]])"
            ]
          },
          "metadata": {},
          "execution_count": 18
        }
      ]
    },
    {
      "cell_type": "code",
      "source": [
        "t.shape"
      ],
      "metadata": {
        "colab": {
          "base_uri": "https://localhost:8080/"
        },
        "id": "95AUG8bjuaUP",
        "outputId": "756779f8-50a1-42cc-d7f4-37aeeb552481"
      },
      "execution_count": null,
      "outputs": [
        {
          "output_type": "execute_result",
          "data": {
            "text/plain": [
              "(2, 3, 4)"
            ]
          },
          "metadata": {},
          "execution_count": 20
        }
      ]
    },
    {
      "cell_type": "code",
      "source": [
        "#addition notes: for this array size should be same.\n",
        "m1+m2"
      ],
      "metadata": {
        "colab": {
          "base_uri": "https://localhost:8080/"
        },
        "id": "bVOz1WSEud7u",
        "outputId": "7be81040-e107-4afe-812f-b0104d997388"
      },
      "execution_count": null,
      "outputs": [
        {
          "output_type": "execute_result",
          "data": {
            "text/plain": [
              "array([[23,  7, 10, 17],\n",
              "       [19,  8, 17, 14],\n",
              "       [21, 17, 14, 28]])"
            ]
          },
          "metadata": {},
          "execution_count": 22
        }
      ]
    },
    {
      "cell_type": "code",
      "source": [
        "#substruction\n",
        "m1-m2"
      ],
      "metadata": {
        "colab": {
          "base_uri": "https://localhost:8080/"
        },
        "id": "-o1DTZA4vLsG",
        "outputId": "0f8c74a8-9acd-40ba-d5cc-ff29726391c4"
      },
      "execution_count": null,
      "outputs": [
        {
          "output_type": "execute_result",
          "data": {
            "text/plain": [
              "array([[21,  3,  4,  9],\n",
              "       [ 9, -4,  3, -2],\n",
              "       [ 3, -3, -8,  4]])"
            ]
          },
          "metadata": {},
          "execution_count": 23
        }
      ]
    },
    {
      "cell_type": "code",
      "source": [
        "#adding vectors together\n",
        "v1=np.array([1,2,3,4,5])\n",
        "v2=np.array([5,4,3,2,1])"
      ],
      "metadata": {
        "id": "Cf2V7GWmvSZ9"
      },
      "execution_count": null,
      "outputs": []
    },
    {
      "cell_type": "code",
      "source": [
        "v1+v2"
      ],
      "metadata": {
        "colab": {
          "base_uri": "https://localhost:8080/"
        },
        "id": "8bVdoqJOv8er",
        "outputId": "35853438-ed61-4f07-edc1-9109d4ad331c"
      },
      "execution_count": null,
      "outputs": [
        {
          "output_type": "execute_result",
          "data": {
            "text/plain": [
              "array([6, 6, 6, 6, 6])"
            ]
          },
          "metadata": {},
          "execution_count": 25
        }
      ]
    },
    {
      "cell_type": "code",
      "source": [
        "v1-v2"
      ],
      "metadata": {
        "id": "k8yK91K6v_Rv",
        "outputId": "e74096fa-b9da-4abf-e4d1-1b59b5dd25b4",
        "colab": {
          "base_uri": "https://localhost:8080/"
        }
      },
      "execution_count": null,
      "outputs": [
        {
          "output_type": "execute_result",
          "data": {
            "text/plain": [
              "array([-4, -2,  0,  2,  4])"
            ]
          },
          "metadata": {},
          "execution_count": 26
        }
      ]
    },
    {
      "cell_type": "code",
      "source": [
        "#transposing matrics\n",
        "A=np.array([[5,12,6],[-3,0,14]])\n",
        "A"
      ],
      "metadata": {
        "colab": {
          "base_uri": "https://localhost:8080/"
        },
        "id": "gkgfs0biQW2y",
        "outputId": "39c73d78-0296-4265-ef73-1f850a4abe29"
      },
      "execution_count": null,
      "outputs": [
        {
          "output_type": "execute_result",
          "data": {
            "text/plain": [
              "array([[ 5, 12,  6],\n",
              "       [-3,  0, 14]])"
            ]
          },
          "metadata": {},
          "execution_count": 39
        }
      ]
    },
    {
      "cell_type": "code",
      "source": [
        "A.T"
      ],
      "metadata": {
        "colab": {
          "base_uri": "https://localhost:8080/"
        },
        "id": "XYzRcsNpQ5DS",
        "outputId": "54137af0-0667-437a-9bd8-b8656f2c062e"
      },
      "execution_count": null,
      "outputs": [
        {
          "output_type": "execute_result",
          "data": {
            "text/plain": [
              "array([[ 5, -3],\n",
              "       [12,  0],\n",
              "       [ 6, 14]])"
            ]
          },
          "metadata": {},
          "execution_count": 20
        }
      ]
    },
    {
      "cell_type": "code",
      "source": [
        "B=np.array([[5,3],[-2,4]])\n",
        "B"
      ],
      "metadata": {
        "colab": {
          "base_uri": "https://localhost:8080/"
        },
        "id": "Ag5OU38RRGi4",
        "outputId": "62d7c992-e5ba-4ef4-f174-b234c2422237"
      },
      "execution_count": null,
      "outputs": [
        {
          "output_type": "execute_result",
          "data": {
            "text/plain": [
              "array([[ 5,  3],\n",
              "       [-2,  4]])"
            ]
          },
          "metadata": {},
          "execution_count": 26
        }
      ]
    },
    {
      "cell_type": "code",
      "source": [
        "B.T"
      ],
      "metadata": {
        "colab": {
          "base_uri": "https://localhost:8080/"
        },
        "id": "Cmb0uf6IROfB",
        "outputId": "699f9202-92b7-46a4-c86c-1b5dcc77184f"
      },
      "execution_count": null,
      "outputs": [
        {
          "output_type": "execute_result",
          "data": {
            "text/plain": [
              "array([[ 5, -2],\n",
              "       [ 3,  4]])"
            ]
          },
          "metadata": {},
          "execution_count": 27
        }
      ]
    },
    {
      "cell_type": "code",
      "source": [
        "#transposing vectors\n",
        "x=np.array([1,2,3])\n",
        "x\n"
      ],
      "metadata": {
        "colab": {
          "base_uri": "https://localhost:8080/"
        },
        "id": "viEERJgpRoIL",
        "outputId": "dadf6ee4-5b64-4c15-83bb-5395ae27cfbe"
      },
      "execution_count": null,
      "outputs": [
        {
          "output_type": "execute_result",
          "data": {
            "text/plain": [
              "array([1, 2, 3])"
            ]
          },
          "metadata": {},
          "execution_count": 28
        }
      ]
    },
    {
      "cell_type": "code",
      "source": [
        "x.T # In python 1d arrays don't really get transposed(in the memory of the computer)"
      ],
      "metadata": {
        "colab": {
          "base_uri": "https://localhost:8080/"
        },
        "id": "Gajk7I3NR47M",
        "outputId": "8c9b1135-38c8-4f78-ce7e-7cf1adbc74a5"
      },
      "execution_count": null,
      "outputs": [
        {
          "output_type": "execute_result",
          "data": {
            "text/plain": [
              "array([1, 2, 3])"
            ]
          },
          "metadata": {},
          "execution_count": 29
        }
      ]
    },
    {
      "cell_type": "code",
      "source": [
        "x.shape"
      ],
      "metadata": {
        "colab": {
          "base_uri": "https://localhost:8080/"
        },
        "id": "QSWNzfMeSK5l",
        "outputId": "c142e60d-9bcb-475d-8272-cbaf7dc47b14"
      },
      "execution_count": null,
      "outputs": [
        {
          "output_type": "execute_result",
          "data": {
            "text/plain": [
              "(3,)"
            ]
          },
          "metadata": {},
          "execution_count": 30
        }
      ]
    },
    {
      "cell_type": "code",
      "source": [
        "x_reshaped=x.reshape(1,3)\n",
        "x_reshaped"
      ],
      "metadata": {
        "colab": {
          "base_uri": "https://localhost:8080/"
        },
        "id": "MBtKqS9dSNOm",
        "outputId": "70071ff7-b68c-4fea-8365-d36aa2c07d4a"
      },
      "execution_count": null,
      "outputs": [
        {
          "output_type": "execute_result",
          "data": {
            "text/plain": [
              "array([[1, 2, 3]])"
            ]
          },
          "metadata": {},
          "execution_count": 32
        }
      ]
    },
    {
      "cell_type": "code",
      "source": [
        "x_reshaped.T"
      ],
      "metadata": {
        "colab": {
          "base_uri": "https://localhost:8080/"
        },
        "id": "7ZcSvNRqSfRp",
        "outputId": "40ffa473-b0ce-40b9-b792-4d48f945a7c5"
      },
      "execution_count": null,
      "outputs": [
        {
          "output_type": "execute_result",
          "data": {
            "text/plain": [
              "array([[1],\n",
              "       [2],\n",
              "       [3]])"
            ]
          },
          "metadata": {},
          "execution_count": 33
        }
      ]
    },
    {
      "cell_type": "code",
      "source": [
        "#dot product\n",
        "x=np.array([2,8,-4])\n",
        "y=np.array([1,-7,3])\n",
        "np.dot(x,y)"
      ],
      "metadata": {
        "colab": {
          "base_uri": "https://localhost:8080/"
        },
        "id": "5yGtdxcFStPw",
        "outputId": "a46eac5a-dc96-42bd-f18a-946477bccd1e"
      },
      "execution_count": null,
      "outputs": [
        {
          "output_type": "execute_result",
          "data": {
            "text/plain": [
              "np.int64(-66)"
            ]
          },
          "metadata": {},
          "execution_count": 34
        }
      ]
    },
    {
      "cell_type": "code",
      "source": [
        "np.dot(x,y)"
      ],
      "metadata": {
        "colab": {
          "base_uri": "https://localhost:8080/"
        },
        "id": "2Qn5MaCfTg_i",
        "outputId": "fef9c90b-53a4-408a-99cd-8d080639234b"
      },
      "execution_count": null,
      "outputs": [
        {
          "output_type": "execute_result",
          "data": {
            "text/plain": [
              "np.int64(-66)"
            ]
          },
          "metadata": {},
          "execution_count": 35
        }
      ]
    },
    {
      "cell_type": "code",
      "source": [
        "#scaler multiply by vector\n",
        "x"
      ],
      "metadata": {
        "colab": {
          "base_uri": "https://localhost:8080/"
        },
        "id": "rEJMiQA4TnyI",
        "outputId": "da5382c2-5274-4dc1-d9eb-21f18c7eb03c"
      },
      "execution_count": null,
      "outputs": [
        {
          "output_type": "execute_result",
          "data": {
            "text/plain": [
              "array([ 2,  8, -4])"
            ]
          },
          "metadata": {},
          "execution_count": 36
        }
      ]
    },
    {
      "cell_type": "code",
      "source": [
        "np.dot(x,5) #we get a vector with the same lenghth"
      ],
      "metadata": {
        "colab": {
          "base_uri": "https://localhost:8080/"
        },
        "id": "4YVIVRzUT96n",
        "outputId": "146944d5-6c4b-45ae-9fa7-3bf542a0459c"
      },
      "execution_count": null,
      "outputs": [
        {
          "output_type": "execute_result",
          "data": {
            "text/plain": [
              "array([ 10,  40, -20])"
            ]
          },
          "metadata": {},
          "execution_count": 37
        }
      ]
    },
    {
      "cell_type": "code",
      "source": [
        "#scaler*scaler\n",
        "np.dot(5,6)\n"
      ],
      "metadata": {
        "colab": {
          "base_uri": "https://localhost:8080/"
        },
        "id": "HIE3m8crULiR",
        "outputId": "3d831ca1-3084-46b8-abd2-afe3d6342692"
      },
      "execution_count": null,
      "outputs": [
        {
          "output_type": "execute_result",
          "data": {
            "text/plain": [
              "np.int64(30)"
            ]
          },
          "metadata": {},
          "execution_count": 38
        }
      ]
    },
    {
      "cell_type": "code",
      "source": [
        "#scaler*matrics\n",
        "A=np.array([[5,12,6],[-3,0,14]])\n",
        "A"
      ],
      "metadata": {
        "colab": {
          "base_uri": "https://localhost:8080/"
        },
        "id": "md5JMmR_UmdY",
        "outputId": "eb4193ec-e70f-4f54-be53-fc5ea696d2c5"
      },
      "execution_count": null,
      "outputs": [
        {
          "output_type": "execute_result",
          "data": {
            "text/plain": [
              "array([[ 5, 12,  6],\n",
              "       [-3,  0, 14]])"
            ]
          },
          "metadata": {},
          "execution_count": 40
        }
      ]
    },
    {
      "cell_type": "code",
      "source": [
        "A*3 #shape of the matrix doesn't change"
      ],
      "metadata": {
        "colab": {
          "base_uri": "https://localhost:8080/"
        },
        "id": "18bO8dEcUwpn",
        "outputId": "56b3e691-fe85-4119-d07e-451f6fa22b46"
      },
      "execution_count": null,
      "outputs": [
        {
          "output_type": "execute_result",
          "data": {
            "text/plain": [
              "array([[15, 36, 18],\n",
              "       [-9,  0, 42]])"
            ]
          },
          "metadata": {},
          "execution_count": 43
        }
      ]
    },
    {
      "cell_type": "code",
      "source": [
        "import numpy as np"
      ],
      "metadata": {
        "id": "nSYraUIWWcEr"
      },
      "execution_count": 2,
      "outputs": []
    },
    {
      "cell_type": "code",
      "metadata": {
        "colab": {
          "base_uri": "https://localhost:8080/"
        },
        "id": "6f1b0470",
        "outputId": "a773d16c-d351-4cd5-b254-e0c0334c6020"
      },
      "source": [
        "# Compute and display the mean of array_1 and the overall mean of array_2.\n",
        "print(\"Mean of array_1:\", np.mean(array_1))\n",
        "print(\"Overall mean of array_2:\", np.mean(array_2))"
      ],
      "execution_count": 8,
      "outputs": [
        {
          "output_type": "stream",
          "name": "stdout",
          "text": [
            "Mean of array_1: 6.5\n",
            "Overall mean of array_2: 8.5\n"
          ]
        }
      ]
    },
    {
      "cell_type": "code",
      "source": [
        "#Compute and display the row-wise mean of array_2.Compute and display the column-wise mean of array_2"
      ],
      "metadata": {
        "id": "Yp3eSYO-U3Ps"
      },
      "execution_count": null,
      "outputs": []
    },
    {
      "cell_type": "code",
      "metadata": {
        "colab": {
          "base_uri": "https://localhost:8080/"
        },
        "id": "10733def",
        "outputId": "e1cdc2df-5c6c-44e7-8550-4e14099cf904"
      },
      "source": [
        "# array_2 is a 1-dimensional array, so we compute the overall mean.\n",
        "print(\"Overall mean of array_2:\", np.mean(array_2))"
      ],
      "execution_count": 9,
      "outputs": [
        {
          "output_type": "stream",
          "name": "stdout",
          "text": [
            "Overall mean of array_2: 8.5\n"
          ]
        }
      ]
    },
    {
      "cell_type": "code",
      "source": [
        "import numpy as np\n",
        "array_1 = np.array([4,5,7,10])\n",
        "array_2=np.array([[4,5],[7,10]])\n",
        "print(array_2)\n",
        "print(np.mean(array_1))\n",
        "print(np.mean(array_2))\n",
        "#row wise mean of array_2\n",
        "print(np.mean(array_2,axis=1))\n",
        "#column wise mean of array_2\n",
        "print(np.mean(array_2,axis=0))"
      ],
      "metadata": {
        "colab": {
          "base_uri": "https://localhost:8080/"
        },
        "id": "Iyw7yPnTWmC6",
        "outputId": "d0de7b35-7f11-46ce-f729-30ce5007c1f7"
      },
      "execution_count": 11,
      "outputs": [
        {
          "output_type": "stream",
          "name": "stdout",
          "text": [
            "[[ 4  5]\n",
            " [ 7 10]]\n",
            "6.5\n",
            "6.5\n",
            "[4.5 8.5]\n",
            "[5.5 7.5]\n"
          ]
        }
      ]
    },
    {
      "cell_type": "code",
      "source": [
        "#Compute the column-wise mean and cast the result to integer\n",
        "print(np.mean(array_2, axis = 0, dtype=int))"
      ],
      "metadata": {
        "colab": {
          "base_uri": "https://localhost:8080/"
        },
        "id": "ztfAKPfXY4IB",
        "outputId": "d21d499e-98fd-4646-e233-a33df785a99d"
      },
      "execution_count": 12,
      "outputs": [
        {
          "output_type": "stream",
          "name": "stdout",
          "text": [
            "[5 7]\n"
          ]
        }
      ]
    }
  ]
}